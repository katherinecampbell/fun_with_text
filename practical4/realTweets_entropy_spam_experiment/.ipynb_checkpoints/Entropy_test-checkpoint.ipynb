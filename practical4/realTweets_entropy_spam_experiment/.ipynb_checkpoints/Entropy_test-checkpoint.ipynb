{
 "cells": [
  {
   "cell_type": "code",
   "execution_count": 5,
   "metadata": {},
   "outputs": [],
   "source": [
    "from __future__ import division\n",
    "import math"
   ]
  },
  {
   "cell_type": "code",
   "execution_count": 9,
   "metadata": {
    "collapsed": true
   },
   "outputs": [],
   "source": [
    "def inputLength(spam):\n",
    "    return float(len(str(spam)))\n",
    "\n",
    "def dictCreate(spam):\n",
    "    freq_dict = {}\n",
    "    for key in str(spam):\n",
    "        freq_dict.setdefault(key, 0)\n",
    "        freq_dict[key] = freq_dict[key] + (1 / inputLength(spam))\n",
    "    return freq_dict.values()\n",
    "\n",
    "def main(spam):\n",
    "    entropy = 0.0\n",
    "    for v in dictCreate(spam):\n",
    "        entropy = entropy + (v * math.log2(v))\n",
    "    return entropy * -1"
   ]
  },
  {
   "cell_type": "code",
   "execution_count": 19,
   "metadata": {},
   "outputs": [
    {
     "name": "stdout",
     "output_type": "stream",
     "text": [
      "4.2801307214326645\n"
     ]
    }
   ],
   "source": [
    "with open('spam.txt', 'r') as spam:\n",
    "    spam_text = spam.readlines()\n",
    "    spam_text = [i.split() for i in spam_text] \n",
    "    print(main(spam_text))\n",
    "    spam.close()"
   ]
  },
  {
   "cell_type": "code",
   "execution_count": 11,
   "metadata": {},
   "outputs": [
    {
     "name": "stdout",
     "output_type": "stream",
     "text": [
      "4.396086565014006\n"
     ]
    }
   ],
   "source": [
    "with open('real_tweets.txt', 'r') as real:\n",
    "    real_text = real.readlines()\n",
    "    real_text = [i.split() for i in real_text]\n",
    "    print(main(real_text))\n",
    "    real.close()"
   ]
  },
  {
   "cell_type": "code",
   "execution_count": 13,
   "metadata": {},
   "outputs": [
    {
     "name": "stdout",
     "output_type": "stream",
     "text": [
      "4.527908475993603\n"
     ]
    }
   ],
   "source": [
    "full = spam_text + real_text\n",
    "print(main(full))"
   ]
  },
  {
   "cell_type": "code",
   "execution_count": null,
   "metadata": {
    "collapsed": true
   },
   "outputs": [],
   "source": []
  }
 ],
 "metadata": {
  "kernelspec": {
   "display_name": "Python 3",
   "language": "python",
   "name": "python3"
  },
  "language_info": {
   "codemirror_mode": {
    "name": "ipython",
    "version": 3
   },
   "file_extension": ".py",
   "mimetype": "text/x-python",
   "name": "python",
   "nbconvert_exporter": "python",
   "pygments_lexer": "ipython3",
   "version": "3.6.1"
  }
 },
 "nbformat": 4,
 "nbformat_minor": 2
}

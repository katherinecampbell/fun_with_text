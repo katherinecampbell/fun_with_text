{
 "cells": [
  {
   "cell_type": "code",
   "execution_count": 28,
   "metadata": {
    "collapsed": true
   },
   "outputs": [],
   "source": [
    "import nltk.collocations\n",
    "import nltk.corpus\n",
    "import collections"
   ]
  },
  {
   "cell_type": "code",
   "execution_count": 29,
   "metadata": {},
   "outputs": [],
   "source": [
    "f = open('new_corpus.txt').read()\n",
    "f = f.split()"
   ]
  },
  {
   "cell_type": "code",
   "execution_count": 30,
   "metadata": {
    "collapsed": true
   },
   "outputs": [],
   "source": [
    "bgm = nltk.collocations.BigramAssocMeasures()\n",
    "find = nltk.collocations.BigramCollocationFinder.from_words(f)\n",
    "scored = find.score_ngrams( bgm.likelihood_ratio  )"
   ]
  },
  {
   "cell_type": "code",
   "execution_count": 31,
   "metadata": {},
   "outputs": [],
   "source": [
    "# Group bigrams by 1st word in bigram.                                        \n",
    "prefix_keys = collections.defaultdict(list)\n",
    "for key, scores in scored:\n",
    "    prefix_keys[key[0]].append((key[1], scores))"
   ]
  },
  {
   "cell_type": "code",
   "execution_count": 32,
   "metadata": {},
   "outputs": [
    {
     "name": "stdout",
     "output_type": "stream",
     "text": [
      "defaultdict(<class 'list'>, {'breaking': [('full', 24.121954326672384)], 'full': [('list', 24.121954326672384)], 'list': [('people', 19.623273169721916)], 'people': [('arrested', 19.623273169721916), ('watched', 5.771630622791298)], 'riots': [('dc', 17.73577537394937)], 'arrested': [('inauguration', 11.904668285574514)], 'accidentally': [('quotes', 10.270311779741764)], 'crowd': [('count', 10.270311779741764)], 'fans': [('parade', 10.270311779741764)], 'makes': [('much', 10.270311779741764)], 'million': [('patriots', 10.270311779741764)], 'much': [('easier', 10.270311779741764)], 'parade': [('still', 10.270311779741764)], 'patriots': [('fans', 10.270311779741764)], 'period': [('wait', 10.270311779741764)], 'quotes': [('bane', 10.270311779741764)], 'speech': [('makes', 10.270311779741764)], 'states': [('america', 10.270311779741764)], 'united': [('states', 10.270311779741764)], 'wait': [('what!?', 10.270311779741764)], 'watched': [('attended', 10.270311779741764)], 'youre': [('saying', 10.270311779741764)], 'inauguration': [('riots', 7.727726903185612), ('breaking', 4.19230975185215), ('lol', 3.768652311912799), ('million', 3.768652311912799), ('period', 3.768652311912799), ('speech', 3.768652311912799), ('the', 3.768652311912799), ('youre', 3.768652311912799)], 'count': [('trump', 7.497723057501982)], 'dc': [('crowd', 7.497723057501982), ('breaking', 3.7447612784033044)], 'donald': [('trump', 7.497723057501982)], 'president': [('donald', 7.497723057501982), ('united', 7.497723057501982)], 'the': [('president', 7.497723057501982)], 'trump': [('accidentally', 7.497723057501982), ('obama', 4.757922689217688)], 'saying': [('people', 5.771630622791298)], 'obama': [('obama', 4.757922689217688), ('inauguration', 1.312519802063926)], 'america': [('inauguration', 3.768652311912799)], 'attended': [('inauguration', 3.768652311912799)], 'bane': [('inauguration', 3.768652311912799)], 'easier': [('inauguration', 3.768652311912799)], 'still': [('inauguration', 3.768652311912799)], 'what!?': [('inauguration', 3.768652311912799)]})\n"
     ]
    }
   ],
   "source": [
    "# Sort keyed bigrams by strongest association.                                  \n",
    "for key in prefix_keys:\n",
    "   prefix_keys[key].sort(key = lambda x: -x[1])\n",
    "print(prefix_keys)"
   ]
  },
  {
   "cell_type": "code",
   "execution_count": null,
   "metadata": {
    "collapsed": true
   },
   "outputs": [],
   "source": []
  }
 ],
 "metadata": {
  "kernelspec": {
   "display_name": "Python 3",
   "language": "python",
   "name": "python3"
  },
  "language_info": {
   "codemirror_mode": {
    "name": "ipython",
    "version": 3
   },
   "file_extension": ".py",
   "mimetype": "text/x-python",
   "name": "python",
   "nbconvert_exporter": "python",
   "pygments_lexer": "ipython3",
   "version": "3.6.1"
  }
 },
 "nbformat": 4,
 "nbformat_minor": 2
}

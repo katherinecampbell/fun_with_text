{
 "cells": [
  {
   "cell_type": "code",
   "execution_count": 22,
   "metadata": {},
   "outputs": [
    {
     "name": "stdout",
     "output_type": "stream",
     "text": [
      "[[-0.689      -0.629     ]\n",
      " [ 0.12923     0.8423    ]\n",
      " [ 0.127234    0.81234   ]\n",
      " [ 0.85234    -0.798234  ]\n",
      " [ 0.91234    -0.97      ]\n",
      " [-0.688      -0.639     ]\n",
      " [ 0.41        0.49      ]\n",
      " [ 0.93       -0.83457   ]\n",
      " [-0.389       0.977     ]\n",
      " [ 0.41071898  0.48      ]\n",
      " [-0.73028746 -0.74933859]\n",
      " [-0.75137343 -0.73091723]\n",
      " [-0.72163264 -0.75235193]\n",
      " [ 0.47800762  0.4271211 ]\n",
      " [-0.9         0.87628712]]\n",
      "<class 'numpy.ndarray'>\n"
     ]
    },
    {
     "data": {
      "image/png": "[encoded data removed]",
      "text/plain": [
       "<matplotlib.figure.Figure at 0x88367b8>"
      ]
     },
     "metadata": {},
     "output_type": "display_data"
    }
   ],
   "source": [
    "#Taken from https://datasciencelab.wordpress.com/2013/12/12/clustering-with-k-means-in-python/\n",
    "# Just added plotting for 3-k cases\n",
    "\n",
    "import numpy as np\n",
    "import random\n",
    "import matplotlib.pyplot as plt\n",
    "\n",
    "def init_board(N):\n",
    "    X = np.array([(random.uniform(-1, 1), random.uniform(-1, 1)) for i in range(N)])\n",
    "    return X\n",
    "\n",
    "def cluster_points(X, mu):\n",
    "    clusters  = {}\n",
    "    for x in X:\n",
    "        bestmukey = min([(i[0], np.linalg.norm(x-mu[i[0]])) \\\n",
    "                    for i in enumerate(mu)], key=lambda t:t[1])[0]\n",
    "        try:\n",
    "            clusters[bestmukey].append(x)\n",
    "        except KeyError:\n",
    "            clusters[bestmukey] = [x]\n",
    "    return clusters\n",
    "\n",
    "def reevaluate_centers(mu, clusters):\n",
    "    newmu = []\n",
    "    keys = sorted(clusters.keys())\n",
    "    for k in keys:\n",
    "        newmu.append(np.mean(clusters[k], axis = 0))\n",
    "    return newmu\n",
    "\n",
    "def has_converged(mu, oldmu):\n",
    "    return (set([tuple(a) for a in mu]) == set([tuple(a) for a in oldmu]))\n",
    "\n",
    "def find_centers(X, K):\n",
    "    # Initialize to K random centers\n",
    "    oldmu = random.sample(X, K)\n",
    "    mu = random.sample(X, K)\n",
    "    while not has_converged(mu, oldmu):\n",
    "        oldmu = mu\n",
    "        # Assign all points in X to clusters\n",
    "        clusters = cluster_points(X, mu)\n",
    "        # Reevaluate centers\n",
    "        mu = reevaluate_centers(oldmu, clusters)\n",
    "    return(mu, clusters)\n",
    "\n",
    "def change_coords(array):\n",
    "    return list(map(list, zip(*array)))\n",
    "\n",
    "def parse_output(data):\n",
    "    clusters = data[1]\n",
    "    points1 = change_coords(clusters[0])\n",
    "    plt.plot(points1[0], points1[1], 'ro')\n",
    "    points2 = change_coords(clusters[1])\n",
    "    plt.plot(points2[0], points2[1], 'g^')\n",
    "    points3 = change_coords(clusters[2])\n",
    "    plt.plot(points3[0], points3[1], 'ys')\n",
    "    centroids = change_coords(data[0])\n",
    "    plt.plot(centroids[0], centroids[1], 'kx')\n",
    "    plt.axis([-1.0, 1, -1.0, 1])\n",
    "    plt.show()\n",
    "\n",
    "#data = init_board(15)\n",
    "data = np.array([[-0.689, -0.629],\n",
    " [ 0.12923,  0.8423],\n",
    " [ 0.127234,  0.81234],\n",
    " [ 0.85234,  -0.798234],\n",
    " [ 0.91234,  -0.97],\n",
    " [-0.688,  -0.639],\n",
    " [ 0.41,  0.49],\n",
    " [0.93,  -0.83457],\n",
    " [-0.389,  0.977],\n",
    " [ 0.41071898, 0.48],\n",
    " [-0.73028746, -0.74933859],\n",
    " [-0.75137343, -0.73091723],\n",
    " [-0.72163264,  -0.75235193],\n",
    " [0.47800762,  0.4271211 ],\n",
    " [-0.20,  0.87628712]])\n",
    "print(data)\n",
    "print(type(data))\n",
    "out = find_centers(list(data), 3)\n",
    "parse_output(out)"
   ]
  },
  {
   "cell_type": "code",
   "execution_count": null,
   "metadata": {},
   "outputs": [],
   "source": [
    "print(data)\n",
    "print(type(data))\n",
    "out = find_centers(list(data), 3)\n",
    "parse_output(out)"
   ]
  },
  {
   "cell_type": "code",
   "execution_count": null,
   "metadata": {
    "collapsed": true
   },
   "outputs": [],
   "source": []
  },
  {
   "cell_type": "code",
   "execution_count": null,
   "metadata": {
    "collapsed": true
   },
   "outputs": [],
   "source": []
  }
 ],
 "metadata": {
  "kernelspec": {
   "display_name": "Python 3",
   "language": "python",
   "name": "python3"
  },
  "language_info": {
   "codemirror_mode": {
    "name": "ipython",
    "version": 3
   },
   "file_extension": ".py",
   "mimetype": "text/x-python",
   "name": "python",
   "nbconvert_exporter": "python",
   "pygments_lexer": "ipython3",
   "version": "3.6.1"
  }
 },
 "nbformat": 4,
 "nbformat_minor": 2
}

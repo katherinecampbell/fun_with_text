{
 "cells": [
  {
   "cell_type": "code",
   "execution_count": 78,
   "metadata": {
    "collapsed": true
   },
   "outputs": [],
   "source": [
    "import numpy as np \n",
    "from sklearn.feature_extraction.text import TfidfVectorizer, CountVectorizer\n",
    "from sklearn.metrics.pairwise import euclidean_distances, cosine_similarity\n",
    "import matplotlib.pyplot as plt"
   ]
  },
  {
   "cell_type": "code",
   "execution_count": 79,
   "metadata": {
    "collapsed": true
   },
   "outputs": [],
   "source": [
    "def makeVecDtm(docs):\n",
    "    # have to make it a vector/2d array to find the distance\n",
    "    vector_maker = CountVectorizer(input = 'content')\n",
    "    dtm = vector_maker.fit_transform(docs) #makes sparse matrix\n",
    "    return(dtm)\n"
   ]
  },
  {
   "cell_type": "code",
   "execution_count": 80,
   "metadata": {
    "collapsed": true
   },
   "outputs": [],
   "source": [
    "#take in sparse matrix and find euclidean dist array\n",
    "def get_e_dist(dtm):\n",
    "    dtm = dtm.toarray() #array necessary to use library\n",
    "    e_dist = euclidean_distances(dtm)\n",
    "    return (np.round(e_dist,1))"
   ]
  },
  {
   "cell_type": "code",
   "execution_count": 81,
   "metadata": {
    "collapsed": true
   },
   "outputs": [],
   "source": [
    "def get_cos(dtm):\n",
    "    similarity = cosine_similarity(dtm)\n",
    "    return(np.round(similarity,2))"
   ]
  },
  {
   "cell_type": "code",
   "execution_count": 82,
   "metadata": {},
   "outputs": [
    {
     "name": "stdout",
     "output_type": "stream",
     "text": [
      "['Advanced Grammar for new English as a Foreign Language Teachers', 'Learning Teaching: The Essential Guide to Foreign Language Teaching', 'English Language Teaching Today: Linking Academic Theory and Practice', 'Spanish language teaching today: linking academic theory and practice', 'Spanish language teaching linking academic theory and practice for new teachers', 'Spanish language learning the essential guide to academic theory and practice', 'English language learning today: theory and practice for foreign language teachers ', 'Language Today Teaching: Linking Practice Academic and Theory English']\n"
     ]
    }
   ],
   "source": [
    "doc1= 'Advanced Grammar for new English as a Foreign Language Teachers'\n",
    "doc2= 'Learning Teaching: The Essential Guide to Foreign Language Teaching'\n",
    "doc3= 'English Language Teaching Today: Linking Academic Theory and Practice'\n",
    "doc3a= 'Spanish language teaching today: linking academic theory and practice'\n",
    "doc3b = 'Spanish language teaching linking academic theory and practice for new teachers'\n",
    "doc3c= 'Spanish language learning the essential guide to academic theory and practice' \n",
    "doc3d= 'English language learning today: theory and practice for foreign language teachers '\n",
    "doc3e= 'Language Today Teaching: Linking Practice Academic and Theory English'\n",
    "#put in text list\n",
    "text=[doc1,doc2,doc3,doc3a,doc3b,doc3c,doc3d,doc3e]\n",
    "print(text)"
   ]
  },
  {
   "cell_type": "code",
   "execution_count": 83,
   "metadata": {},
   "outputs": [
    {
     "name": "stdout",
     "output_type": "stream",
     "text": [
      "['Advanced Grammar for new English as a Foreign Language Teachers', 'Learning Teaching: The Essential Guide to Foreign Language Teaching', 'English Language Teaching Today: Linking Academic Theory and Practice']\n",
      "[[ 0.   4.   3.7]\n",
      " [ 4.   0.   3.7]\n",
      " [ 3.7  3.7  0. ]]\n",
      "[[ 1.    0.2   0.22]\n",
      " [ 0.2   1.    0.3 ]\n",
      " [ 0.22  0.3   1.  ]]\n",
      "['Advanced Grammar for new English as a Foreign Language Teachers', 'Learning Teaching: The Essential Guide to Foreign Language Teaching', 'Spanish language teaching today: linking academic theory and practice']\n",
      "[[ 0.   4.   4. ]\n",
      " [ 4.   0.   3.7]\n",
      " [ 4.   3.7  0. ]]\n",
      "[[ 1.    0.2   0.11]\n",
      " [ 0.2   1.    0.3 ]\n",
      " [ 0.11  0.3   1.  ]]\n",
      "['Advanced Grammar for new English as a Foreign Language Teachers', 'Learning Teaching: The Essential Guide to Foreign Language Teaching', 'Spanish language teaching linking academic theory and practice for new teachers']\n",
      "[[ 0.   4.   3.5]\n",
      " [ 4.   0.   4. ]\n",
      " [ 3.5  4.   0. ]]\n",
      "[[ 1.    0.2   0.4 ]\n",
      " [ 0.2   1.    0.27]\n",
      " [ 0.4   0.27  1.  ]]\n",
      "['Advanced Grammar for new English as a Foreign Language Teachers', 'Learning Teaching: The Essential Guide to Foreign Language Teaching', 'Spanish language learning the essential guide to academic theory and practice']\n",
      "[[ 0.   4.   4.2]\n",
      " [ 4.   0.   3.2]\n",
      " [ 4.2  3.2  0. ]]\n",
      "[[ 1.    0.2   0.1 ]\n",
      " [ 0.2   1.    0.55]\n",
      " [ 0.1   0.55  1.  ]]\n",
      "['Advanced Grammar for new English as a Foreign Language Teachers', 'Learning Teaching: The Essential Guide to Foreign Language Teaching', 'English language learning today: theory and practice for foreign language teachers ']\n",
      "[[ 0.   4.   3.2]\n",
      " [ 4.   0.   4. ]\n",
      " [ 3.2  4.   0. ]]\n",
      "[[ 1.    0.2   0.55]\n",
      " [ 0.2   1.    0.33]\n",
      " [ 0.55  0.33  1.  ]]\n",
      "['Advanced Grammar for new English as a Foreign Language Teachers', 'Learning Teaching: The Essential Guide to Foreign Language Teaching', 'Language Today Teaching: Linking Practice Academic and Theory English']\n",
      "[[ 0.   4.   3.7]\n",
      " [ 4.   0.   3.7]\n",
      " [ 3.7  3.7  0. ]]\n",
      "[[ 1.    0.2   0.22]\n",
      " [ 0.2   1.    0.3 ]\n",
      " [ 0.22  0.3   1.  ]]\n"
     ]
    }
   ],
   "source": [
    "#process all cosines\n",
    "#start from i=2 so first two docs always included\n",
    "for i in range (2,8):\n",
    "    test_text=[doc1,doc2]\n",
    "    test_text.append(text[i])\n",
    "    print(test_text)\n",
    "    dtm = makeVecDtm(test_text)\n",
    "    print(get_e_dist(dtm))\n",
    "    print(get_cos(dtm))"
   ]
  },
  {
   "cell_type": "code",
   "execution_count": 84,
   "metadata": {},
   "outputs": [],
   "source": [
    "from nltk.metrics import distance \n",
    "\n",
    "# Modified from Lecture\n",
    "def edit_dist(s1,s2):\n",
    "    return (distance.edit_distance(s1, s2, transpositions=False))\n"
   ]
  },
  {
   "cell_type": "code",
   "execution_count": 85,
   "metadata": {},
   "outputs": [],
   "source": [
    "with open(\"q3tweets.txt\", \"r\") as f:\n",
    "    real_tweets = [line.strip('\\n') for line in f]\n",
    "    real_tweets = [line.lower() for line in real_tweets]\n",
    "    "
   ]
  },
  {
   "cell_type": "code",
   "execution_count": 86,
   "metadata": {},
   "outputs": [],
   "source": [
    "with open(\"spamtweets.txt\", \"r\") as f:\n",
    "    spam = [line.strip('\\n') for line in f]\n",
    "    spam = [line.lower() for line in spam]"
   ]
  },
  {
   "cell_type": "code",
   "execution_count": 115,
   "metadata": {},
   "outputs": [
    {
     "data": {
      "text/plain": [
       "array([[  0,  85,  83,  84, 101],\n",
       "       [ 85,   0,  85,  86, 106],\n",
       "       [ 83,  85,   0,  83,  95],\n",
       "       [ 84,  86,  83,   0,  99],\n",
       "       [101, 106,  95,  99,   0]])"
      ]
     },
     "execution_count": 115,
     "metadata": {},
     "output_type": "execute_result"
    }
   ],
   "source": [
    "results =[]\n",
    "for line in real_tweets:\n",
    "    newlines = []\n",
    "    #compare real tweets with eachother \n",
    "    for i in range(0,5):\n",
    "        dist = edit_dist(line, real_tweets[i])\n",
    "        newlines.append(dist)\n",
    "    #compare real to spam\n",
    "    for tweet in spam:\n",
    "        spam_dist = edit_dist(line,tweet)\n",
    "        newlines.append(spam_dist)\n",
    "    results.append(newlines)\n",
    "#put to an array\n",
    "results = np.array(results)\n",
    "results"
   ]
  },
  {
   "cell_type": "code",
   "execution_count": 88,
   "metadata": {},
   "outputs": [],
   "source": [
    "for line in real_tweets:\n",
    "    for tweet in spam:\n",
    "         edit_dist(line,tweet)"
   ]
  },
  {
   "cell_type": "code",
   "execution_count": null,
   "metadata": {
    "collapsed": true
   },
   "outputs": [],
   "source": []
  }
 ],
 "metadata": {
  "kernelspec": {
   "display_name": "Python 3",
   "language": "python",
   "name": "python3"
  },
  "language_info": {
   "codemirror_mode": {
    "name": "ipython",
    "version": 3
   },
   "file_extension": ".py",
   "mimetype": "text/x-python",
   "name": "python",
   "nbconvert_exporter": "python",
   "pygments_lexer": "ipython3",
   "version": "3.6.1"
  }
 },
 "nbformat": 4,
 "nbformat_minor": 2
}

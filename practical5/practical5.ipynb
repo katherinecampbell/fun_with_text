{
 "cells": [
  {
   "cell_type": "code",
   "execution_count": 1,
   "metadata": {},
   "outputs": [],
   "source": [
    "from __future__ import division\n",
    "import string\n",
    "import math\n",
    "import pandas as pd\n",
    "import numpy as np\n",
    "tokenize = lambda doc: doc.lower().split(\" \")\n",
    "from sklearn.metrics import jaccard_similarity_score"
   ]
  },
  {
   "cell_type": "code",
   "execution_count": 2,
   "metadata": {
    "collapsed": true
   },
   "outputs": [],
   "source": [
    "with open(\"jaccard_texts.txt\", \"r\") as f:\n",
    "    text = [line.strip('\\n') for line in f]\n",
    "    tokenized_text = [tokenize(sentence)for sentence in text]\n"
   ]
  },
  {
   "cell_type": "code",
   "execution_count": 3,
   "metadata": {
    "collapsed": true
   },
   "outputs": [],
   "source": [
    "num = -1\n",
    "i=0\n",
    "#list to store the scores of all base cases\n",
    "distance = []\n",
    "#every sentence has a turn as the base case\n",
    "for sentence in tokenized_text:\n",
    "    num += 1\n",
    "    #list to store scores of each sentence against the base case\n",
    "    new_list =[]\n",
    "    #compare to all other sentences\n",
    "    for i in range (0, 6):\n",
    "        #don't compare sentence to itself\n",
    "        if i == num:\n",
    "            continue\n",
    "        else:\n",
    "            #find jaccard index - this subtracted from 1 is the distance\n",
    "            score = jaccard_similarity_score(tokenized_text[i],sentence)\n",
    "            new_list.append(1 - score)#this is to find distance - 1 minus jaccard distance\n",
    "            i +=1\n",
    "    distance.append(new_list)"
   ]
  },
  {
   "cell_type": "code",
   "execution_count": 4,
   "metadata": {},
   "outputs": [
    {
     "name": "stdout",
     "output_type": "stream",
     "text": [
      "the property of triangle inequality holds\n",
      "the property of triangle inequality holds\n",
      "the property of triangle inequality holds\n",
      "the property of triangle inequality holds\n",
      "the property of triangle inequality holds\n",
      "the property of triangle inequality holds\n"
     ]
    }
   ],
   "source": [
    "inequality_holds = True\n",
    "for row in distance:\n",
    "    #find max number in row\n",
    "    limit = min(row, key=float)\n",
    "    for i in range (0,5):\n",
    "        try:\n",
    "            total = [row][i] + [row][i+1]\n",
    "        except:\n",
    "            total = [row][i] + [row][0]\n",
    "        #if the sum of any two items is less than the max one\n",
    "        #then it'll be smaller than any of the other and the property doesn't hold\n",
    "        if np.any(total <= limit):\n",
    "            inequality_holds = False\n",
    "            break\n",
    "    \n",
    "    print(\"the property of triangle inequality holds\")"
   ]
  },
  {
   "cell_type": "code",
   "execution_count": 5,
   "metadata": {},
   "outputs": [],
   "source": [
    "def dice(x, y):\n",
    "    x = frozenset(x)\n",
    "    y = frozenset(y)\n",
    "    return 2 * len(x & y) / float(sum(map(len, (x, y))))"
   ]
  },
  {
   "cell_type": "code",
   "execution_count": 6,
   "metadata": {
    "collapsed": true
   },
   "outputs": [],
   "source": [
    "num = -1\n",
    "i=0\n",
    "#list to store the scores of all base cases\n",
    "dice_distance = []\n",
    "#every sentence has a turn as the base case\n",
    "for sentence in tokenized_text:\n",
    "    num += 1\n",
    "    #list to store scores of each sentence against the base case\n",
    "    new_list =[]\n",
    "    #compare to all other sentences\n",
    "    for i in range (0, 6):\n",
    "        #don't compare sentence to itself\n",
    "        if i == num:\n",
    "            continue\n",
    "        else:\n",
    "            #find dice score\n",
    "            score = dice(tokenized_text[i],sentence)\n",
    "            new_list.append(1-score)\n",
    "            i +=1\n",
    "    dice_distance.append(new_list)"
   ]
  },
  {
   "cell_type": "code",
   "execution_count": 7,
   "metadata": {},
   "outputs": [
    {
     "name": "stdout",
     "output_type": "stream",
     "text": [
      "[[0.4482758620689655, 0.6, 0.6, 0.9333333333333333, 0.5714285714285714], [0.4482758620689655, 0.6129032258064516, 0.5483870967741935, 0.935483870967742, 0.4482758620689655], [0.6, 0.6129032258064516, 0.75, 1.0, 0.8], [0.6, 0.5483870967741935, 0.75, 1.0, 0.6], [0.9333333333333333, 0.935483870967742, 1.0, 1.0, 1.0], [0.5714285714285714, 0.4482758620689655, 0.8, 0.6, 1.0]]\n"
     ]
    }
   ],
   "source": [
    "print(dice_distance)"
   ]
  },
  {
   "cell_type": "code",
   "execution_count": 8,
   "metadata": {},
   "outputs": [
    {
     "name": "stdout",
     "output_type": "stream",
     "text": [
      "the property of triangle inequality holds\n",
      "the property of triangle inequality holds\n",
      "the property of triangle inequality holds\n",
      "the property of triangle inequality holds\n",
      "the property of triangle inequality holds\n",
      "the property of triangle inequality holds\n"
     ]
    }
   ],
   "source": [
    "inequality_holds = True\n",
    "for row in dice_distance:\n",
    "    #find minimum number in row\n",
    "    limit = max(row, key=float)\n",
    "    for i in range (0,4):\n",
    "        if i == 4:\n",
    "            total = row[i]+ row[0]\n",
    "            if np.any(total < limit):\n",
    "                inequality_holds = False\n",
    "                break\n",
    "        else:\n",
    "            total = row[i] + row[i+1]\n",
    "            if np.any(total < limit):\n",
    "                inequality_holds = False\n",
    "                break\n",
    "\n",
    "    \n",
    "    print(\"the property of triangle inequality holds\")"
   ]
  },
  {
   "cell_type": "code",
   "execution_count": null,
   "metadata": {
    "collapsed": true
   },
   "outputs": [],
   "source": []
  },
  {
   "cell_type": "code",
   "execution_count": null,
   "metadata": {
    "collapsed": true
   },
   "outputs": [],
   "source": []
  }
 ],
 "metadata": {
  "kernelspec": {
   "display_name": "Python 3",
   "language": "python",
   "name": "python3"
  },
  "language_info": {
   "codemirror_mode": {
    "name": "ipython",
    "version": 3
   },
   "file_extension": ".py",
   "mimetype": "text/x-python",
   "name": "python",
   "nbconvert_exporter": "python",
   "pygments_lexer": "ipython3",
   "version": "3.6.1"
  }
 },
 "nbformat": 4,
 "nbformat_minor": 2
}

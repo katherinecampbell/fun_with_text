{
 "cells": [
  {
   "cell_type": "code",
   "execution_count": 70,
   "metadata": {
    "collapsed": true
   },
   "outputs": [],
   "source": [
    "import pandas\n",
    "import numpy as np\n",
    "import matplotlib.pyplot as plt\n",
    "from sklearn.preprocessing import normalize"
   ]
  },
  {
   "cell_type": "code",
   "execution_count": 71,
   "metadata": {},
   "outputs": [],
   "source": [
    "df = pandas.read_csv('p3_q3.csv')"
   ]
  },
  {
   "cell_type": "code",
   "execution_count": 72,
   "metadata": {},
   "outputs": [
    {
     "name": "stdout",
     "output_type": "stream",
     "text": [
      "            Word  2010  2011  2012\n",
      "0          kitty   340     3   333\n",
      "1         toyota    50     4   444\n",
      "2          berry   569    67   888\n",
      "3    pumpkin-pie   987   545   643\n",
      "4   thanksgiving  1246  1297  1238\n",
      "5       stuffing   234   798   754\n",
      "6          bread  2000   897   432\n",
      "7         baking  1357  1278  1743\n",
      "8       holidays    56  1987   286\n",
      "9      christmas    32  2000   989\n",
      "10        flying     2   987   573\n",
      "11      presents   123   654  1853\n",
      "12        hungry   234   543  1581\n",
      "13     microwave   456   432  1995\n",
      "14       balloon  1236    21  1553\n"
     ]
    }
   ],
   "source": [
    "print(df)"
   ]
  },
  {
   "cell_type": "code",
   "execution_count": 73,
   "metadata": {},
   "outputs": [],
   "source": [
    "method_2_2011 = df.loc[:,'2011']"
   ]
  },
  {
   "cell_type": "code",
   "execution_count": 82,
   "metadata": {},
   "outputs": [
    {
     "data": {
      "text/plain": [
       "0        3\n",
       "1        4\n",
       "2       67\n",
       "3      545\n",
       "4     1297\n",
       "5      798\n",
       "6      897\n",
       "7     1278\n",
       "8     1987\n",
       "9     2000\n",
       "10     987\n",
       "11     654\n",
       "12     543\n",
       "13     432\n",
       "14      21\n",
       "Name: 2011, dtype: int64"
      ]
     },
     "execution_count": 82,
     "metadata": {},
     "output_type": "execute_result"
    }
   ],
   "source": [
    "method_2_2011"
   ]
  },
  {
   "cell_type": "code",
   "execution_count": 74,
   "metadata": {},
   "outputs": [
    {
     "name": "stderr",
     "output_type": "stream",
     "text": [
      "C:\\Users\\Katherine\\Anaconda3\\lib\\site-packages\\sklearn\\utils\\validation.py:395: DeprecationWarning: Passing 1d arrays as data is deprecated in 0.17 and will raise ValueError in 0.19. Reshape your data either using X.reshape(-1, 1) if your data has a single feature or X.reshape(1, -1) if it contains a single sample.\n",
      "  DeprecationWarning)\n",
      "C:\\Users\\Katherine\\Anaconda3\\lib\\site-packages\\sklearn\\utils\\validation.py:429: DataConversionWarning: Data with input dtype int64 was converted to float64 by the normalize function.\n",
      "  warnings.warn(msg, _DataConversionWarning)\n"
     ]
    }
   ],
   "source": [
    "m2_2011 = preprocessing.normalize(method_2_2011)"
   ]
  },
  {
   "cell_type": "code",
   "execution_count": 75,
   "metadata": {},
   "outputs": [
    {
     "data": {
      "text/plain": [
       "array([[ 0.10406544,  0.01530374,  0.17415658,  0.30209585,  0.38136923,\n",
       "         0.07162151,  0.61214965,  0.41534354,  0.01714019,  0.00979439,\n",
       "         0.00061215,  0.0376472 ,  0.07162151,  0.13957012,  0.37830849]])"
      ]
     },
     "execution_count": 75,
     "metadata": {},
     "output_type": "execute_result"
    }
   ],
   "source": [
    "m2_2011"
   ]
  },
  {
   "cell_type": "code",
   "execution_count": 76,
   "metadata": {},
   "outputs": [
    {
     "name": "stdout",
     "output_type": "stream",
     "text": [
      "        2010      2011      2012\n",
      "0   0.169169  0.000000  0.027501\n",
      "1   0.024024  0.000501  0.092452\n",
      "2   0.283784  0.032048  0.352253\n",
      "3   0.492993  0.271407  0.208894\n",
      "4   0.622623  0.647972  0.557051\n",
      "5   0.116116  0.398097  0.273844\n",
      "6   1.000000  0.447672  0.085430\n",
      "7   0.678178  0.638458  0.852545\n",
      "8   0.027027  0.993490  0.000000\n",
      "9   0.015015  1.000000  0.411352\n",
      "10  0.000000  0.492739  0.167934\n",
      "11  0.060561  0.325989  0.916910\n",
      "12  0.116116  0.270406  0.757753\n",
      "13  0.227227  0.214822  1.000000\n",
      "14  0.617618  0.009014  0.741369\n"
     ]
    }
   ],
   "source": [
    "print(method2)"
   ]
  },
  {
   "cell_type": "code",
   "execution_count": 77,
   "metadata": {},
   "outputs": [
    {
     "data": {
      "image/png": "[encoded data removed]",
      "text/plain": [
       "<matplotlib.figure.Figure at 0xbd3fd30>"
      ]
     },
     "metadata": {},
     "output_type": "display_data"
    }
   ],
   "source": [
    "method2.plot.bar()\n",
    "plt.show()"
   ]
  },
  {
   "cell_type": "code",
   "execution_count": 78,
   "metadata": {
    "collapsed": true
   },
   "outputs": [],
   "source": [
    "del df['Word']"
   ]
  },
  {
   "cell_type": "code",
   "execution_count": 79,
   "metadata": {
    "collapsed": true
   },
   "outputs": [],
   "source": [
    "normalized_df=(df-df.min())/(df.max()-df.min())"
   ]
  },
  {
   "cell_type": "code",
   "execution_count": 80,
   "metadata": {},
   "outputs": [
    {
     "data": {
      "text/html": [
       "<div>\n",
       "<style>\n",
       "    .dataframe thead tr:only-child th {\n",
       "        text-align: right;\n",
       "    }\n",
       "\n",
       "    .dataframe thead th {\n",
       "        text-align: left;\n",
       "    }\n",
       "\n",
       "    .dataframe tbody tr th {\n",
       "        vertical-align: top;\n",
       "    }\n",
       "</style>\n",
       "<table border=\"1\" class=\"dataframe\">\n",
       "  <thead>\n",
       "    <tr style=\"text-align: right;\">\n",
       "      <th></th>\n",
       "      <th>2010</th>\n",
       "      <th>2011</th>\n",
       "      <th>2012</th>\n",
       "    </tr>\n",
       "  </thead>\n",
       "  <tbody>\n",
       "    <tr>\n",
       "      <th>0</th>\n",
       "      <td>0.169169</td>\n",
       "      <td>0.000000</td>\n",
       "      <td>0.027501</td>\n",
       "    </tr>\n",
       "    <tr>\n",
       "      <th>1</th>\n",
       "      <td>0.024024</td>\n",
       "      <td>0.000501</td>\n",
       "      <td>0.092452</td>\n",
       "    </tr>\n",
       "    <tr>\n",
       "      <th>2</th>\n",
       "      <td>0.283784</td>\n",
       "      <td>0.032048</td>\n",
       "      <td>0.352253</td>\n",
       "    </tr>\n",
       "    <tr>\n",
       "      <th>3</th>\n",
       "      <td>0.492993</td>\n",
       "      <td>0.271407</td>\n",
       "      <td>0.208894</td>\n",
       "    </tr>\n",
       "    <tr>\n",
       "      <th>4</th>\n",
       "      <td>0.622623</td>\n",
       "      <td>0.647972</td>\n",
       "      <td>0.557051</td>\n",
       "    </tr>\n",
       "    <tr>\n",
       "      <th>5</th>\n",
       "      <td>0.116116</td>\n",
       "      <td>0.398097</td>\n",
       "      <td>0.273844</td>\n",
       "    </tr>\n",
       "    <tr>\n",
       "      <th>6</th>\n",
       "      <td>1.000000</td>\n",
       "      <td>0.447672</td>\n",
       "      <td>0.085430</td>\n",
       "    </tr>\n",
       "    <tr>\n",
       "      <th>7</th>\n",
       "      <td>0.678178</td>\n",
       "      <td>0.638458</td>\n",
       "      <td>0.852545</td>\n",
       "    </tr>\n",
       "    <tr>\n",
       "      <th>8</th>\n",
       "      <td>0.027027</td>\n",
       "      <td>0.993490</td>\n",
       "      <td>0.000000</td>\n",
       "    </tr>\n",
       "    <tr>\n",
       "      <th>9</th>\n",
       "      <td>0.015015</td>\n",
       "      <td>1.000000</td>\n",
       "      <td>0.411352</td>\n",
       "    </tr>\n",
       "    <tr>\n",
       "      <th>10</th>\n",
       "      <td>0.000000</td>\n",
       "      <td>0.492739</td>\n",
       "      <td>0.167934</td>\n",
       "    </tr>\n",
       "    <tr>\n",
       "      <th>11</th>\n",
       "      <td>0.060561</td>\n",
       "      <td>0.325989</td>\n",
       "      <td>0.916910</td>\n",
       "    </tr>\n",
       "    <tr>\n",
       "      <th>12</th>\n",
       "      <td>0.116116</td>\n",
       "      <td>0.270406</td>\n",
       "      <td>0.757753</td>\n",
       "    </tr>\n",
       "    <tr>\n",
       "      <th>13</th>\n",
       "      <td>0.227227</td>\n",
       "      <td>0.214822</td>\n",
       "      <td>1.000000</td>\n",
       "    </tr>\n",
       "    <tr>\n",
       "      <th>14</th>\n",
       "      <td>0.617618</td>\n",
       "      <td>0.009014</td>\n",
       "      <td>0.741369</td>\n",
       "    </tr>\n",
       "  </tbody>\n",
       "</table>\n",
       "</div>"
      ],
      "text/plain": [
       "        2010      2011      2012\n",
       "0   0.169169  0.000000  0.027501\n",
       "1   0.024024  0.000501  0.092452\n",
       "2   0.283784  0.032048  0.352253\n",
       "3   0.492993  0.271407  0.208894\n",
       "4   0.622623  0.647972  0.557051\n",
       "5   0.116116  0.398097  0.273844\n",
       "6   1.000000  0.447672  0.085430\n",
       "7   0.678178  0.638458  0.852545\n",
       "8   0.027027  0.993490  0.000000\n",
       "9   0.015015  1.000000  0.411352\n",
       "10  0.000000  0.492739  0.167934\n",
       "11  0.060561  0.325989  0.916910\n",
       "12  0.116116  0.270406  0.757753\n",
       "13  0.227227  0.214822  1.000000\n",
       "14  0.617618  0.009014  0.741369"
      ]
     },
     "execution_count": 80,
     "metadata": {},
     "output_type": "execute_result"
    }
   ],
   "source": [
    "normalized_df\n"
   ]
  },
  {
   "cell_type": "code",
   "execution_count": 81,
   "metadata": {},
   "outputs": [
    {
     "data": {
      "image/png": "[encoded data removed]",
      "text/plain": [
       "<matplotlib.figure.Figure at 0xbf7dc50>"
      ]
     },
     "metadata": {},
     "output_type": "display_data"
    }
   ],
   "source": [
    "normalized_df.plot.bar()\n",
    "plt.show()"
   ]
  },
  {
   "cell_type": "code",
   "execution_count": null,
   "metadata": {
    "collapsed": true
   },
   "outputs": [],
   "source": []
  }
 ],
 "metadata": {
  "kernelspec": {
   "display_name": "Python 3",
   "language": "python",
   "name": "python3"
  },
  "language_info": {
   "codemirror_mode": {
    "name": "ipython",
    "version": 3
   },
   "file_extension": ".py",
   "mimetype": "text/x-python",
   "name": "python",
   "nbconvert_exporter": "python",
   "pygments_lexer": "ipython3",
   "version": "3.6.1"
  }
 },
 "nbformat": 4,
 "nbformat_minor": 2
}

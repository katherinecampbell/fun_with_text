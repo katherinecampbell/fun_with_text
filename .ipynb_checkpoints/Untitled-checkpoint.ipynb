{
 "cells": [
  {
   "cell_type": "code",
   "execution_count": 4,
   "metadata": {},
   "outputs": [
    {
     "name": "stdout",
     "output_type": "stream",
     "text": [
      "tp=  20\n",
      "fp=  2\n",
      "result is  0.9090909090909091\n",
      "tp=  50\n",
      "fp=  5\n",
      "result is  0.9090909090909091\n",
      "tp=  60\n",
      "fp=  10\n",
      "result is  0.8571428571428571\n",
      "tp=  80\n",
      "fp=  20\n",
      "result is  0.8\n",
      "tp=  88\n",
      "fp=  30\n",
      "result is  0.7457627118644068\n",
      "tp=  90\n",
      "fp=  40\n",
      "result is  0.6923076923076923\n",
      "tp=  95\n",
      "fp=  50\n",
      "result is  0.6551724137931034\n",
      "tp=  96\n",
      "fp=  60\n",
      "result is  0.6153846153846154\n",
      "tp=  97\n",
      "fp=  70\n",
      "result is  0.5808383233532934\n",
      "tp=  98\n",
      "fp=  80\n",
      "result is  0.550561797752809\n",
      "[0.9090909090909091, 0.9090909090909091, 0.8571428571428571, 0.8, 0.7457627118644068, 0.6923076923076923, 0.6551724137931034, 0.6153846153846154, 0.5808383233532934, 0.550561797752809]\n"
     ]
    }
   ],
   "source": [
    "TPos = [20,50,60,80,88,90,95,96,97,98]\n",
    "FPos = [2,5,10,20,30,40,50,60,70,80]\n",
    "answer = []\n",
    "count = 0\n",
    "for i in TPos:\n",
    "    print('tp= ', i)\n",
    "    fp = FPos[count]\n",
    "    print('fp= ', fp)\n",
    "    result = i/(i+fp)\n",
    "    print('result is ', result)\n",
    "    answer.append(result)\n",
    "    count +=1\n",
    "print(answer)"
   ]
  },
  {
   "cell_type": "code",
   "execution_count": 5,
   "metadata": {},
   "outputs": [
    {
     "name": "stdout",
     "output_type": "stream",
     "text": [
      "tp=  20\n",
      "fp=  80\n",
      "result is  0.2\n",
      "tp=  50\n",
      "fp=  50\n",
      "result is  0.5\n",
      "tp=  60\n",
      "fp=  40\n",
      "result is  0.6\n",
      "tp=  80\n",
      "fp=  20\n",
      "result is  0.8\n",
      "tp=  88\n",
      "fp=  12\n",
      "result is  0.88\n",
      "tp=  90\n",
      "fp=  10\n",
      "result is  0.9\n",
      "tp=  95\n",
      "fp=  5\n",
      "result is  0.95\n",
      "tp=  96\n",
      "fp=  4\n",
      "result is  0.96\n",
      "tp=  97\n",
      "fp=  3\n",
      "result is  0.97\n",
      "tp=  98\n",
      "fp=  2\n",
      "result is  0.98\n",
      "[0.2, 0.5, 0.6, 0.8, 0.88, 0.9, 0.95, 0.96, 0.97, 0.98]\n"
     ]
    }
   ],
   "source": [
    "TPos = [20,50,60,80,88,90,95,96,97,98]\n",
    "FNeg = [80,50,40,20,12,10,5,4,3,2]\n",
    "ans = []\n",
    "count = 0\n",
    "for i in TPos:\n",
    "    print('tp= ', i)\n",
    "    fn = FNeg[count]\n",
    "    print('fp= ', fn)\n",
    "    result = i/(i+fn)\n",
    "    print('result is ', result)\n",
    "    ans.append(result)\n",
    "    count +=1\n",
    "print(ans)"
   ]
  },
  {
   "cell_type": "code",
   "execution_count": null,
   "metadata": {
    "collapsed": true
   },
   "outputs": [],
   "source": [
    "FPos = [2,5,10,20,30,40,50,60,70,80]\n",
    "TPos = [20,50,60,80,88,90,95,96,97,98]\n",
    "FNeg = [80,50,40,20,12,10,5,4,3,2]\n",
    "f1 = []\n",
    "count = 0\n",
    "for i in TPos:\n",
    "    print('tp= ', i)\n",
    "    fn = FNeg[count]\n",
    "    fp = FPos[count]\n",
    "    print('fp= ', fp)\n",
    "    print('fn = ', fn)\n",
    "    f1 = (2*i)/((2*i)+fp+fn)\n",
    "    print('result is ', result)\n",
    "    ans.append(result)\n",
    "    count +=1\n",
    "print(ans)"
   ]
  }
 ],
 "metadata": {
  "kernelspec": {
   "display_name": "Python 3",
   "language": "python",
   "name": "python3"
  },
  "language_info": {
   "codemirror_mode": {
    "name": "ipython",
    "version": 3
   },
   "file_extension": ".py",
   "mimetype": "text/x-python",
   "name": "python",
   "nbconvert_exporter": "python",
   "pygments_lexer": "ipython3",
   "version": "3.6.1"
  }
 },
 "nbformat": 4,
 "nbformat_minor": 2
}

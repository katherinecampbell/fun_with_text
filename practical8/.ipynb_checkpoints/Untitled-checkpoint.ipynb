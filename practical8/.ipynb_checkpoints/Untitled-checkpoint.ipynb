{
 "cells": [
  {
   "cell_type": "code",
   "execution_count": 36,
   "metadata": {},
   "outputs": [
    {
     "name": "stdout",
     "output_type": "stream",
     "text": [
      "tp=  20\n",
      "fp=  2\n",
      "result is  0.9090909090909091\n",
      "tp=  50\n",
      "fp=  5\n",
      "result is  0.9090909090909091\n",
      "tp=  60\n",
      "fp=  10\n",
      "result is  0.8571428571428571\n",
      "tp=  80\n",
      "fp=  20\n",
      "result is  0.8\n",
      "tp=  88\n",
      "fp=  30\n",
      "result is  0.7457627118644068\n",
      "tp=  90\n",
      "fp=  40\n",
      "result is  0.6923076923076923\n",
      "tp=  95\n",
      "fp=  50\n",
      "result is  0.6551724137931034\n",
      "tp=  96\n",
      "fp=  60\n",
      "result is  0.6153846153846154\n",
      "tp=  97\n",
      "fp=  70\n",
      "result is  0.5808383233532934\n",
      "tp=  98\n",
      "fp=  80\n",
      "result is  0.550561797752809\n",
      "[0.9090909090909091, 0.9090909090909091, 0.8571428571428571, 0.8, 0.7457627118644068, 0.6923076923076923, 0.6551724137931034, 0.6153846153846154, 0.5808383233532934, 0.550561797752809]\n"
     ]
    }
   ],
   "source": [
    "TPos = [20,50,60,80,88,90,95,96,97,98]\n",
    "FPos = [2,5,10,20,30,40,50,60,70,80]\n",
    "answer = []\n",
    "count = 0\n",
    "for i in TPos:\n",
    "    print('tp= ', i)\n",
    "    fp = FPos[count]\n",
    "    print('fp= ', fp)\n",
    "    result = i/(i+fp)\n",
    "    print('result is ', result)\n",
    "    answer.append(result)\n",
    "    count +=1\n",
    "print(answer)"
   ]
  },
  {
   "cell_type": "code",
   "execution_count": 37,
   "metadata": {},
   "outputs": [
    {
     "name": "stdout",
     "output_type": "stream",
     "text": [
      "tp=  20\n",
      "fp=  80\n",
      "result is  0.2\n",
      "tp=  50\n",
      "fp=  50\n",
      "result is  0.5\n",
      "tp=  60\n",
      "fp=  40\n",
      "result is  0.6\n",
      "tp=  80\n",
      "fp=  20\n",
      "result is  0.8\n",
      "tp=  88\n",
      "fp=  12\n",
      "result is  0.88\n",
      "tp=  90\n",
      "fp=  10\n",
      "result is  0.9\n",
      "tp=  95\n",
      "fp=  5\n",
      "result is  0.95\n",
      "tp=  96\n",
      "fp=  4\n",
      "result is  0.96\n",
      "tp=  97\n",
      "fp=  3\n",
      "result is  0.97\n",
      "tp=  98\n",
      "fp=  2\n",
      "result is  0.98\n",
      "[0.2, 0.5, 0.6, 0.8, 0.88, 0.9, 0.95, 0.96, 0.97, 0.98]\n"
     ]
    }
   ],
   "source": [
    "TPos = [20,50,60,80,88,90,95,96,97,98]\n",
    "FNeg = [80,50,40,20,12,10,5,4,3,2]\n",
    "ans = []\n",
    "count = 0\n",
    "for i in TPos:\n",
    "    print('tp= ', i)\n",
    "    fn = FNeg[count]\n",
    "    print('fp= ', fn)\n",
    "    result = i/(i+fn)\n",
    "    print('result is ', result)\n",
    "    ans.append(result)\n",
    "    count +=1\n",
    "print(ans)"
   ]
  },
  {
   "cell_type": "code",
   "execution_count": 38,
   "metadata": {},
   "outputs": [
    {
     "name": "stdout",
     "output_type": "stream",
     "text": [
      "[0.32786885245901637, 0.6451612903225806, 0.7058823529411765, 0.8, 0.8073394495412844, 0.782608695652174, 0.7755102040816326, 0.75, 0.7265917602996255, 0.7050359712230215]\n"
     ]
    }
   ],
   "source": [
    "FPos = [2,5,10,20,30,40,50,60,70,80]\n",
    "TPos = [20,50,60,80,88,90,95,96,97,98]\n",
    "FNeg = [80,50,40,20,12,10,5,4,3,2]\n",
    "f1List = []\n",
    "count = 0\n",
    "for i in TPos:\n",
    "    fn = FNeg[count]\n",
    "    fp = FPos[count]\n",
    "    f1 = (2*i)/((2*i)+fp+fn)\n",
    "    f1List.append(f1)\n",
    "    count +=1\n",
    "print(f1List)"
   ]
  },
  {
   "cell_type": "code",
   "execution_count": 39,
   "metadata": {},
   "outputs": [
    {
     "name": "stdout",
     "output_type": "stream",
     "text": [
      "[0.2, 0.5, 0.6, 0.8, 0.88, 0.9, 0.95, 0.96, 0.97, 0.98]\n"
     ]
    }
   ],
   "source": [
    "sensitivity = []\n",
    "count = 0\n",
    "for i in TPos:\n",
    "    fn = FNeg[count]\n",
    "    result = i/(i+fn)\n",
    "    sensitivity.append(result)\n",
    "    count +=1\n",
    "print(sensitivity)"
   ]
  },
  {
   "cell_type": "code",
   "execution_count": 40,
   "metadata": {},
   "outputs": [
    {
     "name": "stdout",
     "output_type": "stream",
     "text": [
      "[0.020000000000000018, 0.050000000000000044, 0.09999999999999998, 0.19999999999999996, 0.30000000000000004, 0.4, 0.5, 0.6, 0.7, 0.8]\n"
     ]
    }
   ],
   "source": [
    "TN = [98,95,90,80,70,60,50,40,30,20]\n",
    "specificity = []\n",
    "count = 0\n",
    "for i in TN:\n",
    "    fp = FPos[count]\n",
    "    result = i/(i+fp)\n",
    "    res = 1-result\n",
    "    specificity.append(res)\n",
    "    count +=1\n",
    "print(specificity)\n",
    "    \n"
   ]
  },
  {
   "cell_type": "code",
   "execution_count": 41,
   "metadata": {},
   "outputs": [
    {
     "data": {
      "image/png": "[encoded data removed]",
      "text/plain": [
       "<matplotlib.figure.Figure at 0x887d978>"
      ]
     },
     "metadata": {},
     "output_type": "display_data"
    }
   ],
   "source": [
    "#make ROC curve\n",
    "import numpy as np\n",
    "import matplotlib.ticker\n",
    "import matplotlib.pyplot as plt\n",
    "x = specificity\n",
    "y = sensitivity\n",
    "plt.xlabel('False Positive Rate')\n",
    "plt.ylabel('True Positive Rate/Sensitivity/Recall')\n",
    "plt.title('Candidate Tweet Data ROC Curve')\n",
    "plt.plot(x,y)\n",
    "plt.show()\n",
    "auc = np.trapz(y,x)"
   ]
  },
  {
   "cell_type": "code",
   "execution_count": 42,
   "metadata": {},
   "outputs": [
    {
     "name": "stdout",
     "output_type": "stream",
     "text": [
      "[0.02, 0.05, 0.1, 0.2, 0.3, 0.4, 0.5, 0.6, 0.7, 0.8]\n"
     ]
    }
   ],
   "source": [
    "#find false pos\n",
    "fp_rate = []\n",
    "count = 0\n",
    "for i in FPos:\n",
    "    res = i/(i+TN[count])\n",
    "    fp_rate.append(res)\n",
    "    count+=1\n",
    "print (fp_rate)"
   ]
  },
  {
   "cell_type": "code",
   "execution_count": 43,
   "metadata": {},
   "outputs": [
    {
     "name": "stdout",
     "output_type": "stream",
     "text": [
      "[0.8, 0.5, 0.4, 0.2, 0.12, 0.1, 0.05, 0.04, 0.03, 0.02]\n"
     ]
    }
   ],
   "source": [
    "#find false neg\n",
    "fn_rate = []\n",
    "count = 0\n",
    "for i in FNeg:\n",
    "    res = i/(TPos[count]+i)\n",
    "    fn_rate.append(res)\n",
    "    count+=1\n",
    "print (fn_rate)"
   ]
  },
  {
   "cell_type": "code",
   "execution_count": 55,
   "metadata": {},
   "outputs": [
    {
     "data": {
      "image/png": "[encoded data removed]",
      "text/plain": [
       "<matplotlib.figure.Figure at 0x84756a0>"
      ]
     },
     "metadata": {},
     "output_type": "display_data"
    }
   ],
   "source": [
    "#plot DET for data\n",
    "#x=fp rate\n",
    "#y= fn rate\n",
    "#log scale\n",
    "#based on Jeremy karnowski's DETCurve function\n",
    "#fps and fns, ticks, axis, use of pyplot modules determined by me\n",
    "def DETCurve(fps,fns):\n",
    "    axis_min = min(fps[0],fns[-1])\n",
    "    fig,ax = plt.subplots()\n",
    "    plt.plot(fps,fns)\n",
    "    plt.yscale('log')\n",
    "    plt.xscale('log')\n",
    "    ticks_to_use = [0.02,0.05,0.1,0.2,0.5,1]\n",
    "    ax.get_xaxis().set_major_formatter(matplotlib.ticker.ScalarFormatter())\n",
    "    ax.get_yaxis().set_major_formatter(matplotlib.ticker.ScalarFormatter())\n",
    "    ax.set_xticks(ticks_to_use)\n",
    "    ax.set_yticks(ticks_to_use)\n",
    "    plt.axis([0.015,1,0.01,1])\n",
    "    plt.show()\n",
    "DETCurve(fp_rate,fn_rate)"
   ]
  },
  {
   "cell_type": "code",
   "execution_count": null,
   "metadata": {
    "collapsed": true
   },
   "outputs": [],
   "source": []
  }
 ],
 "metadata": {
  "kernelspec": {
   "display_name": "Python 3",
   "language": "python",
   "name": "python3"
  },
  "language_info": {
   "codemirror_mode": {
    "name": "ipython",
    "version": 3
   },
   "file_extension": ".py",
   "mimetype": "text/x-python",
   "name": "python",
   "nbconvert_exporter": "python",
   "pygments_lexer": "ipython3",
   "version": "3.6.1"
  }
 },
 "nbformat": 4,
 "nbformat_minor": 2
}
